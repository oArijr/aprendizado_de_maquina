{
 "cells": [
  {
   "cell_type": "markdown",
   "source": [
    "# **Redes Neurais e CNN: Identificação de Objetos**"
   ],
   "metadata": {
    "id": "KipUZZtyTYIy"
   }
  },
  {
   "cell_type": "markdown",
   "source": [
    "Neste trabalho iremos fazer a identificação de um conjunto de dados de imagens de artigos de Zalando chamado Fashion-MNIST, que consiste em um conjunto de treinamento de 60.000 exemplos e um conjunto de teste de 10.000 exemplos. Cada exemplo é uma imagem em tons de cinza 28x28, associada a um rótulo de 10 classes.\n",
    "\n",
    "Fonte: https://www.tensorflow.org/datasets/catalog/fashion_mnist?hl=pt-br"
   ],
   "metadata": {
    "id": "MjiEkS5gUJrq"
   }
  },
  {
   "cell_type": "markdown",
   "source": [
    "# **ATIVIDADE:**\n",
    "\n",
    "**Descrição:**\n",
    "\n",
    "Nesta atividade, você receberá um código de uma Rede Neural Artificial e uma Rede Neural Convolucional (CNN) implementada. Sua tarefa é analisar o código fornecido e fazer uma interpretação detalhada de cada linha, identificando e explicando as principais etapas, camadas e operações realizadas pela RNA e pela CNN.\n",
    "\n",
    "**Instruções:**\n",
    "\n",
    "1. Preencha o código com comentários em cada linha, explicando sua função e propósito.\n",
    "2. Analise o código cuidadosamente para entender como a CNN é configurada.\n",
    "3. Identifique e explique as camadas de convolução, camadas de pooling, camadas densas, funções de ativação, tamanhos dos filtros, número de neurônios, etc.\n",
    "4. Identifique quais técnicas de regularização ou otimização formam utilizadas no código e explique como elas contribuem para o desempenho e a generalização do modelo.\n",
    "5. Comente sobre a função de ativação utilizada na camada de saída.\n",
    "6. Descreva os hiperparâmetros e ajustes do modelo, como a taxa de aprendizado, número de épocas de treinamento e o tratamento dos conjuntos de dados de treinamento e teste.\n",
    "7. Faça uma avaliação descritiva dos resultados das Redes Neurais implementadas.\n",
    "\n",
    "\n",
    "\n",
    "**Entregável:**\n",
    "\n",
    "Prepare uma análise detalhada do código fornecido, destacando as principais características da CNN e como ela é configurada para a tarefa em questão. Se necessário, inclua observações sobre o potencial de melhoria ou otimização do modelo.\n",
    "\n",
    "Esta atividade visa consolidar seu conhecimento sobre CNNs, ajudando a compreender como uma Rede Neural Convolucional é implementada e configurada para tarefas específicas."
   ],
   "metadata": {
    "id": "3ass6OdNXC8M"
   }
  },
  {
   "cell_type": "code",
   "execution_count": 2,
   "metadata": {
    "id": "ohTl6Xp6LuJs"
   },
   "outputs": [],
   "source": [
    "import tensorflow as tf\n",
    "from tensorflow import keras"
   ]
  },
  {
   "cell_type": "code",
   "execution_count": 3,
   "metadata": {
    "id": "0FcIBZhXLuJt"
   },
   "outputs": [],
   "source": [
    "import numpy as np\n",
    "import pandas as pd\n",
    "from matplotlib import pyplot as plt\n",
    "%matplotlib inline"
   ]
  },
  {
   "cell_type": "markdown",
   "metadata": {
    "id": "adqNGOKbLuJu"
   },
   "source": [
    "## Importando base de dados"
   ]
  },
  {
   "cell_type": "code",
   "execution_count": 4,
   "metadata": {
    "id": "9JlM4b_QLuJu"
   },
   "outputs": [],
   "source": [
    "fashion_mnist = keras.datasets.fashion_mnist\n",
    "# O dataset é um dataset clássico de Machine Learning e está incluso dentro da biblioteca do tensorflow\n",
    "\n",
    "# Porém na própria documentação (https://github.com/zalandoresearch/fashion-mnist), ela fala que atualmente ele é muito simples\n",
    "# para o nível dos algoritmos atuais, até mesmo algoritmos mais simples conseguem boas acurácias no dataset teoricamente.\n",
    "\n",
    "# Dito isso parece ser muito usado para verificar se 'no mínimo' o algoritmo funciona nesse dataset."
   ]
  },
  {
   "cell_type": "code",
   "execution_count": 5,
   "metadata": {
    "id": "y5VmgIppLuJv",
    "collapsed": true,
    "colab": {
     "base_uri": "https://localhost:8080/"
    },
    "outputId": "36318164-ccf2-49fd-ac44-b69479406a35"
   },
   "outputs": [
    {
     "output_type": "stream",
     "name": "stdout",
     "text": [
      "Downloading data from https://storage.googleapis.com/tensorflow/tf-keras-datasets/train-labels-idx1-ubyte.gz\n",
      "\u001B[1m29515/29515\u001B[0m \u001B[32m━━━━━━━━━━━━━━━━━━━━\u001B[0m\u001B[37m\u001B[0m \u001B[1m0s\u001B[0m 0us/step\n",
      "Downloading data from https://storage.googleapis.com/tensorflow/tf-keras-datasets/train-images-idx3-ubyte.gz\n",
      "\u001B[1m26421880/26421880\u001B[0m \u001B[32m━━━━━━━━━━━━━━━━━━━━\u001B[0m\u001B[37m\u001B[0m \u001B[1m0s\u001B[0m 0us/step\n",
      "Downloading data from https://storage.googleapis.com/tensorflow/tf-keras-datasets/t10k-labels-idx1-ubyte.gz\n",
      "\u001B[1m5148/5148\u001B[0m \u001B[32m━━━━━━━━━━━━━━━━━━━━\u001B[0m\u001B[37m\u001B[0m \u001B[1m0s\u001B[0m 0us/step\n",
      "Downloading data from https://storage.googleapis.com/tensorflow/tf-keras-datasets/t10k-images-idx3-ubyte.gz\n",
      "\u001B[1m4422102/4422102\u001B[0m \u001B[32m━━━━━━━━━━━━━━━━━━━━\u001B[0m\u001B[37m\u001B[0m \u001B[1m0s\u001B[0m 0us/step\n"
     ]
    }
   ],
   "source": [
    "(X_train_full, y_train_full), (X_test, y_test) = fashion_mnist.load_data()"
   ]
  },
  {
   "cell_type": "code",
   "execution_count": 6,
   "metadata": {
    "id": "SaEdFh0WLuJv",
    "colab": {
     "base_uri": "https://localhost:8080/"
    },
    "outputId": "c1a714de-ad3c-44fa-9690-dd0309dfc26e"
   },
   "outputs": [
    {
     "output_type": "stream",
     "name": "stdout",
     "text": [
      "(60000, 28, 28)\n",
      "(60000,)\n",
      "(10000, 28, 28)\n",
      "(10000,)\n"
     ]
    }
   ],
   "source": [
    "# Fashion-MNIST possui 60.000 imagens de treino e 10.000 teste.\n",
    "# O 28, 28 se refere as imagens que tem resolução 28x28 pixel em tons de cinza e nada mais são do que matrizes.\n",
    "print(X_train_full.shape)\n",
    "print(y_train_full.shape)\n",
    "print(X_test.shape)\n",
    "print(y_test.shape)"
   ]
  },
  {
   "cell_type": "code",
   "execution_count": 7,
   "metadata": {
    "id": "YP10-ncGLuJv"
   },
   "outputs": [],
   "source": [
    "# As primeiras 5000 imagens e labels do conjunto de treino viram as variaveis X_valid e y_valid.\n",
    "# As 5.000 até 60.000 (outras 55.000), viram o X_train e y_train\n",
    "\n",
    "# A normalizacao aqui transforma tudo entre 0 e 1, pois cada pixel é representado como 1 byte (0 até 255)\n",
    "X_valid, X_train = X_train_full[:5000] / 255.0, X_train_full[5000:] / 255.0\n",
    "y_valid, y_train = y_train_full[:5000], y_train_full[5000:]"
   ]
  },
  {
   "cell_type": "code",
   "execution_count": 8,
   "metadata": {
    "id": "VAoUtsIkLuJv"
   },
   "outputs": [],
   "source": [
    "nomes_classes = [\"camisa/top\", \"calca\", \"casaco\", \"vestido\", \"jaqueta\",\n",
    "               \"sandalia\", \"camiseta\", \"tenis\", \"bolsa\", \"bota\"]"
   ]
  },
  {
   "cell_type": "code",
   "execution_count": 8,
   "metadata": {
    "id": "VR_2fLo-LuJv",
    "colab": {
     "base_uri": "https://localhost:8080/",
     "height": 35
    },
    "outputId": "13b4c187-d884-497a-88d1-b9e51ae58f8c"
   },
   "outputs": [
    {
     "output_type": "execute_result",
     "data": {
      "text/plain": [
       "'bota'"
      ],
      "application/vnd.google.colaboratory.intrinsic+json": {
       "type": "string"
      }
     },
     "metadata": {},
     "execution_count": 8
    }
   ],
   "source": [
    "nomes_classes[y_train[5]]"
   ]
  },
  {
   "cell_type": "code",
   "execution_count": 9,
   "metadata": {
    "id": "cwh2gxu9LuJw",
    "colab": {
     "base_uri": "https://localhost:8080/"
    },
    "outputId": "181afcb4-3ecf-4422-8542-97a5881fac44"
   },
   "outputs": [
    {
     "output_type": "execute_result",
     "data": {
      "text/plain": [
       "array([[0.        , 0.        , 0.        , 0.        , 0.        ,\n",
       "        0.        , 0.        , 0.        , 0.        , 0.        ,\n",
       "        0.        , 0.        , 0.        , 0.        , 0.        ,\n",
       "        0.        , 0.        , 0.        , 0.        , 0.        ,\n",
       "        0.        , 0.        , 0.        , 0.        , 0.        ,\n",
       "        0.        , 0.        , 0.        ],\n",
       "       [0.        , 0.        , 0.        , 0.        , 0.        ,\n",
       "        0.        , 0.        , 0.        , 0.        , 0.        ,\n",
       "        0.        , 0.        , 0.        , 0.        , 0.        ,\n",
       "        0.        , 0.        , 0.        , 0.        , 0.        ,\n",
       "        0.        , 0.        , 0.        , 0.        , 0.        ,\n",
       "        0.        , 0.        , 0.        ],\n",
       "       [0.        , 0.        , 0.        , 0.        , 0.        ,\n",
       "        0.        , 0.        , 0.        , 0.        , 0.        ,\n",
       "        0.        , 0.        , 0.        , 0.        , 0.        ,\n",
       "        0.        , 0.        , 0.        , 0.        , 0.        ,\n",
       "        0.        , 0.        , 0.        , 0.        , 0.        ,\n",
       "        0.        , 0.        , 0.        ],\n",
       "       [0.        , 0.        , 0.        , 0.        , 0.        ,\n",
       "        0.        , 0.        , 0.        , 0.        , 0.        ,\n",
       "        0.        , 0.        , 0.        , 0.        , 0.        ,\n",
       "        0.        , 0.        , 0.        , 0.        , 0.        ,\n",
       "        0.        , 0.        , 0.        , 0.        , 0.        ,\n",
       "        0.        , 0.        , 0.        ],\n",
       "       [0.        , 0.        , 0.        , 0.        , 0.        ,\n",
       "        0.        , 0.        , 0.        , 0.        , 0.        ,\n",
       "        0.        , 0.        , 0.        , 0.        , 0.        ,\n",
       "        0.        , 0.        , 0.        , 0.        , 0.        ,\n",
       "        0.        , 0.        , 0.        , 0.        , 0.        ,\n",
       "        0.        , 0.        , 0.        ],\n",
       "       [0.        , 0.        , 0.        , 0.        , 0.        ,\n",
       "        0.        , 0.        , 0.        , 0.        , 0.        ,\n",
       "        0.        , 0.        , 0.        , 0.        , 0.        ,\n",
       "        0.        , 0.        , 0.        , 0.        , 0.        ,\n",
       "        0.        , 0.        , 0.        , 0.        , 0.        ,\n",
       "        0.12156863, 0.43529412, 0.01176471],\n",
       "       [0.        , 0.        , 0.        , 0.        , 0.        ,\n",
       "        0.        , 0.        , 0.        , 0.        , 0.        ,\n",
       "        0.        , 0.        , 0.        , 0.        , 0.02745098,\n",
       "        0.        , 0.2745098 , 0.92156863, 0.24313725, 0.        ,\n",
       "        0.        , 0.        , 0.        , 0.        , 0.36862745,\n",
       "        0.56078431, 0.12156863, 0.25098039],\n",
       "       [0.        , 0.        , 0.        , 0.        , 0.        ,\n",
       "        0.        , 0.        , 0.        , 0.        , 0.        ,\n",
       "        0.        , 0.        , 0.        , 0.        , 0.03529412,\n",
       "        0.        , 0.36078431, 0.90588235, 0.85098039, 0.71372549,\n",
       "        0.75686275, 0.77647059, 0.78039216, 0.78431373, 0.67058824,\n",
       "        0.65490196, 0.39215686, 0.07843137],\n",
       "       [0.        , 0.        , 0.        , 0.        , 0.        ,\n",
       "        0.        , 0.        , 0.        , 0.        , 0.        ,\n",
       "        0.        , 0.        , 0.        , 0.        , 0.        ,\n",
       "        0.        , 0.59607843, 0.83921569, 0.85098039, 0.93333333,\n",
       "        0.92941176, 0.91764706, 0.93333333, 0.86666667, 0.61176471,\n",
       "        0.73333333, 0.29411765, 0.        ],\n",
       "       [0.        , 0.        , 0.        , 0.        , 0.        ,\n",
       "        0.        , 0.        , 0.        , 0.        , 0.        ,\n",
       "        0.        , 0.        , 0.        , 0.01176471, 0.        ,\n",
       "        0.        , 0.81960784, 0.82352941, 0.85882353, 0.85098039,\n",
       "        0.83137255, 0.85490196, 0.88627451, 0.80392157, 0.7254902 ,\n",
       "        0.83529412, 0.00784314, 0.        ],\n",
       "       [0.        , 0.        , 0.        , 0.        , 0.        ,\n",
       "        0.        , 0.        , 0.        , 0.        , 0.        ,\n",
       "        0.        , 0.        , 0.        , 0.00784314, 0.        ,\n",
       "        0.14509804, 0.89411765, 0.78823529, 0.8745098 , 0.8627451 ,\n",
       "        0.86666667, 0.87843137, 0.92156863, 0.83137255, 0.75294118,\n",
       "        0.81176471, 0.        , 0.        ],\n",
       "       [0.        , 0.        , 0.        , 0.        , 0.        ,\n",
       "        0.        , 0.        , 0.        , 0.        , 0.        ,\n",
       "        0.        , 0.        , 0.        , 0.        , 0.        ,\n",
       "        0.45882353, 0.8745098 , 0.81960784, 0.87843137, 0.86666667,\n",
       "        0.8627451 , 0.87058824, 0.90196078, 0.8627451 , 0.77647059,\n",
       "        0.92156863, 0.03921569, 0.        ],\n",
       "       [0.        , 0.        , 0.        , 0.        , 0.        ,\n",
       "        0.        , 0.        , 0.        , 0.        , 0.00392157,\n",
       "        0.        , 0.        , 0.00784314, 0.        , 0.        ,\n",
       "        0.80784314, 0.79607843, 0.83529412, 0.87058824, 0.8627451 ,\n",
       "        0.8627451 , 0.8745098 , 0.90196078, 0.92156863, 0.61176471,\n",
       "        0.81176471, 0.12156863, 0.        ],\n",
       "       [0.        , 0.        , 0.        , 0.        , 0.        ,\n",
       "        0.        , 0.        , 0.        , 0.        , 0.        ,\n",
       "        0.        , 0.        , 0.        , 0.        , 0.38039216,\n",
       "        0.94901961, 0.7254902 , 0.81568627, 0.86666667, 0.85882353,\n",
       "        0.86666667, 0.87058824, 0.89411765, 0.93333333, 0.34509804,\n",
       "        0.5254902 , 0.30980392, 0.        ],\n",
       "       [0.        , 0.        , 0.        , 0.        , 0.        ,\n",
       "        0.        , 0.        , 0.        , 0.        , 0.        ,\n",
       "        0.        , 0.02352941, 0.        , 0.02352941, 0.88627451,\n",
       "        0.76078431, 0.72156863, 0.8627451 , 0.8627451 , 0.86666667,\n",
       "        0.87058824, 0.88627451, 0.87843137, 0.99607843, 0.52941176,\n",
       "        0.52156863, 0.6627451 , 0.        ],\n",
       "       [0.        , 0.        , 0.        , 0.        , 0.        ,\n",
       "        0.        , 0.        , 0.        , 0.        , 0.        ,\n",
       "        0.01568627, 0.        , 0.        , 0.76862745, 0.77254902,\n",
       "        0.70196078, 0.76078431, 0.84705882, 0.85882353, 0.86666667,\n",
       "        0.87843137, 0.88235294, 0.85098039, 1.        , 0.63529412,\n",
       "        0.47843137, 0.74509804, 0.01176471],\n",
       "       [0.        , 0.        , 0.        , 0.        , 0.        ,\n",
       "        0.00392157, 0.01176471, 0.01568627, 0.01960784, 0.00784314,\n",
       "        0.        , 0.        , 0.70196078, 0.67843137, 0.51372549,\n",
       "        0.71764706, 0.81568627, 0.82352941, 0.85098039, 0.8745098 ,\n",
       "        0.87058824, 0.91764706, 0.96862745, 0.85098039, 0.47058824,\n",
       "        0.51764706, 0.79215686, 0.21960784],\n",
       "       [0.00392157, 0.00784314, 0.01176471, 0.01568627, 0.        ,\n",
       "        0.        , 0.        , 0.        , 0.        , 0.        ,\n",
       "        0.17254902, 0.77647059, 0.70588235, 0.        , 0.34117647,\n",
       "        0.82745098, 0.76862745, 0.94509804, 0.91764706, 0.85098039,\n",
       "        0.91372549, 0.85098039, 0.79215686, 0.74509804, 0.54509804,\n",
       "        0.72941176, 0.92941176, 0.38039216],\n",
       "       [0.00392157, 0.        , 0.        , 0.        , 0.        ,\n",
       "        0.00392157, 0.05490196, 0.14117647, 0.36470588, 0.6745098 ,\n",
       "        0.87843137, 0.51764706, 0.        , 0.43921569, 0.8745098 ,\n",
       "        0.81176471, 0.41568627, 0.23921569, 0.65098039, 0.79607843,\n",
       "        0.81960784, 0.38431373, 0.47843137, 0.6627451 , 0.65490196,\n",
       "        0.58823529, 0.63921569, 0.38431373],\n",
       "       [0.        , 0.        , 0.24705882, 0.40392157, 0.52941176,\n",
       "        0.63529412, 0.68627451, 0.6745098 , 0.58823529, 0.35686275,\n",
       "        0.01960784, 0.        , 0.50980392, 0.9372549 , 0.7254902 ,\n",
       "        0.77254902, 0.82352941, 0.74117647, 0.93333333, 0.98039216,\n",
       "        0.94509804, 0.82352941, 0.77254902, 0.66666667, 0.57254902,\n",
       "        0.45490196, 0.72941176, 0.2627451 ],\n",
       "       [0.16862745, 0.72941176, 0.72156863, 0.7372549 , 0.6627451 ,\n",
       "        0.48235294, 0.29019608, 0.30980392, 0.19607843, 0.34901961,\n",
       "        0.54509804, 0.91764706, 0.8745098 , 0.86666667, 0.90588235,\n",
       "        0.90588235, 0.87058824, 0.82745098, 0.7254902 , 0.64313725,\n",
       "        0.6745098 , 0.78431373, 0.92156863, 0.90980392, 0.69411765,\n",
       "        0.54117647, 0.75686275, 0.11764706],\n",
       "       [0.30980392, 0.72941176, 0.78431373, 0.81568627, 0.85882353,\n",
       "        0.85098039, 0.82352941, 0.82352941, 0.84313725, 0.86666667,\n",
       "        0.88627451, 0.8745098 , 0.8745098 , 0.85882353, 0.81176471,\n",
       "        0.76470588, 0.75686275, 0.82745098, 0.93333333, 0.92156863,\n",
       "        0.77254902, 0.80784314, 0.81568627, 0.80392157, 0.78431373,\n",
       "        0.76078431, 0.9254902 , 0.10980392],\n",
       "       [0.        , 0.        , 0.26666667, 0.52941176, 0.71372549,\n",
       "        0.69803922, 0.76470588, 0.78823529, 0.81960784, 0.8745098 ,\n",
       "        0.88627451, 0.8745098 , 0.83921569, 0.9254902 , 0.89803922,\n",
       "        0.80784314, 0.67058824, 0.54117647, 0.36078431, 0.50196078,\n",
       "        1.        , 0.85882353, 0.9372549 , 1.        , 0.91372549,\n",
       "        0.83921569, 1.        , 0.24313725],\n",
       "       [0.        , 0.        , 0.        , 0.        , 0.        ,\n",
       "        0.        , 0.04705882, 0.13333333, 0.19607843, 0.23529412,\n",
       "        0.23529412, 0.23137255, 0.23137255, 0.14117647, 0.        ,\n",
       "        0.        , 0.        , 0.        , 0.        , 0.        ,\n",
       "        0.63137255, 0.6       , 0.4745098 , 0.42745098, 0.3254902 ,\n",
       "        0.24705882, 0.14509804, 0.        ],\n",
       "       [0.        , 0.        , 0.        , 0.        , 0.        ,\n",
       "        0.        , 0.        , 0.        , 0.        , 0.        ,\n",
       "        0.        , 0.        , 0.        , 0.        , 0.        ,\n",
       "        0.        , 0.        , 0.        , 0.        , 0.        ,\n",
       "        0.        , 0.        , 0.        , 0.        , 0.        ,\n",
       "        0.        , 0.        , 0.        ],\n",
       "       [0.        , 0.        , 0.        , 0.        , 0.        ,\n",
       "        0.        , 0.        , 0.        , 0.        , 0.        ,\n",
       "        0.        , 0.        , 0.        , 0.        , 0.        ,\n",
       "        0.        , 0.        , 0.        , 0.        , 0.        ,\n",
       "        0.        , 0.        , 0.        , 0.        , 0.        ,\n",
       "        0.        , 0.        , 0.        ],\n",
       "       [0.        , 0.        , 0.        , 0.        , 0.        ,\n",
       "        0.        , 0.        , 0.        , 0.        , 0.        ,\n",
       "        0.        , 0.        , 0.        , 0.        , 0.        ,\n",
       "        0.        , 0.        , 0.        , 0.        , 0.        ,\n",
       "        0.        , 0.        , 0.        , 0.        , 0.        ,\n",
       "        0.        , 0.        , 0.        ],\n",
       "       [0.        , 0.        , 0.        , 0.        , 0.        ,\n",
       "        0.        , 0.        , 0.        , 0.        , 0.        ,\n",
       "        0.        , 0.        , 0.        , 0.        , 0.        ,\n",
       "        0.        , 0.        , 0.        , 0.        , 0.        ,\n",
       "        0.        , 0.        , 0.        , 0.        , 0.        ,\n",
       "        0.        , 0.        , 0.        ]])"
      ]
     },
     "metadata": {},
     "execution_count": 9
    }
   ],
   "source": [
    "X_train[5]"
   ]
  },
  {
   "cell_type": "code",
   "execution_count": 14,
   "metadata": {
    "id": "vZVGsmUDLuJw",
    "colab": {
     "base_uri": "https://localhost:8080/",
     "height": 447
    },
    "outputId": "382aebe5-8391-4058-dc63-e1924885fe55"
   },
   "outputs": [
    {
     "output_type": "stream",
     "name": "stdout",
     "text": [
      "bota\n"
     ]
    },
    {
     "output_type": "display_data",
     "data": {
      "text/plain": [
       "<Figure size 640x480 with 1 Axes>"
      ],
      "image/png": "[encoded data removed]"
     },
     "metadata": {}
    }
   ],
   "source": [
    "exemplo_n = 5\n",
    "print(nomes_classes[y_train[exemplo_n]]) # Mostra label do exemplo (bota)\n",
    "#plt.imshow(X_train[exemplo_n], interpolation='nearest')\n",
    "plt.imshow(X_train[exemplo_n], cmap='gray', interpolation='nearest')\n",
    "# Se quisermos ver em Grayscale é preciso do cmap='gray'\n",
    "plt.show()"
   ]
  },
  {
   "cell_type": "markdown",
   "metadata": {
    "id": "-ixdiQPDLuJw"
   },
   "source": [
    "#  Rede Neural Artificial com Keras"
   ]
  },
  {
   "cell_type": "code",
   "execution_count": 15,
   "metadata": {
    "id": "SBZRAsYaLuJw",
    "colab": {
     "base_uri": "https://localhost:8080/",
     "height": 321
    },
    "outputId": "d294e1fc-c725-483a-e3d5-9be88a9101bb"
   },
   "outputs": [
    {
     "output_type": "display_data",
     "data": {
      "text/plain": [
       "\u001B[1mModel: \"sequential_1\"\u001B[0m\n"
      ],
      "text/html": [
       "<pre style=\"white-space:pre;overflow-x:auto;line-height:normal;font-family:Menlo,'DejaVu Sans Mono',consolas,'Courier New',monospace\"><span style=\"font-weight: bold\">Model: \"sequential_1\"</span>\n",
       "</pre>\n"
      ]
     },
     "metadata": {}
    },
    {
     "output_type": "display_data",
     "data": {
      "text/plain": [
       "┏━━━━━━━━━━━━━━━━━━━━━━━━━━━━━━━━━┳━━━━━━━━━━━━━━━━━━━━━━━━┳━━━━━━━━━━━━━━━┓\n",
       "┃\u001B[1m \u001B[0m\u001B[1mLayer (type)                   \u001B[0m\u001B[1m \u001B[0m┃\u001B[1m \u001B[0m\u001B[1mOutput Shape          \u001B[0m\u001B[1m \u001B[0m┃\u001B[1m \u001B[0m\u001B[1m      Param #\u001B[0m\u001B[1m \u001B[0m┃\n",
       "┡━━━━━━━━━━━━━━━━━━━━━━━━━━━━━━━━━╇━━━━━━━━━━━━━━━━━━━━━━━━╇━━━━━━━━━━━━━━━┩\n",
       "│ flatten_1 (\u001B[38;5;33mFlatten\u001B[0m)             │ (\u001B[38;5;45mNone\u001B[0m, \u001B[38;5;34m784\u001B[0m)            │             \u001B[38;5;34m0\u001B[0m │\n",
       "├─────────────────────────────────┼────────────────────────┼───────────────┤\n",
       "│ dense_3 (\u001B[38;5;33mDense\u001B[0m)                 │ (\u001B[38;5;45mNone\u001B[0m, \u001B[38;5;34m300\u001B[0m)            │       \u001B[38;5;34m235,500\u001B[0m │\n",
       "├─────────────────────────────────┼────────────────────────┼───────────────┤\n",
       "│ dropout_2 (\u001B[38;5;33mDropout\u001B[0m)             │ (\u001B[38;5;45mNone\u001B[0m, \u001B[38;5;34m300\u001B[0m)            │             \u001B[38;5;34m0\u001B[0m │\n",
       "├─────────────────────────────────┼────────────────────────┼───────────────┤\n",
       "│ dense_4 (\u001B[38;5;33mDense\u001B[0m)                 │ (\u001B[38;5;45mNone\u001B[0m, \u001B[38;5;34m100\u001B[0m)            │        \u001B[38;5;34m30,100\u001B[0m │\n",
       "├─────────────────────────────────┼────────────────────────┼───────────────┤\n",
       "│ dropout_3 (\u001B[38;5;33mDropout\u001B[0m)             │ (\u001B[38;5;45mNone\u001B[0m, \u001B[38;5;34m100\u001B[0m)            │             \u001B[38;5;34m0\u001B[0m │\n",
       "├─────────────────────────────────┼────────────────────────┼───────────────┤\n",
       "│ dense_5 (\u001B[38;5;33mDense\u001B[0m)                 │ (\u001B[38;5;45mNone\u001B[0m, \u001B[38;5;34m10\u001B[0m)             │         \u001B[38;5;34m1,010\u001B[0m │\n",
       "└─────────────────────────────────┴────────────────────────┴───────────────┘\n"
      ],
      "text/html": [
       "<pre style=\"white-space:pre;overflow-x:auto;line-height:normal;font-family:Menlo,'DejaVu Sans Mono',consolas,'Courier New',monospace\">┏━━━━━━━━━━━━━━━━━━━━━━━━━━━━━━━━━┳━━━━━━━━━━━━━━━━━━━━━━━━┳━━━━━━━━━━━━━━━┓\n",
       "┃<span style=\"font-weight: bold\"> Layer (type)                    </span>┃<span style=\"font-weight: bold\"> Output Shape           </span>┃<span style=\"font-weight: bold\">       Param # </span>┃\n",
       "┡━━━━━━━━━━━━━━━━━━━━━━━━━━━━━━━━━╇━━━━━━━━━━━━━━━━━━━━━━━━╇━━━━━━━━━━━━━━━┩\n",
       "│ flatten_1 (<span style=\"color: #0087ff; text-decoration-color: #0087ff\">Flatten</span>)             │ (<span style=\"color: #00d7ff; text-decoration-color: #00d7ff\">None</span>, <span style=\"color: #00af00; text-decoration-color: #00af00\">784</span>)            │             <span style=\"color: #00af00; text-decoration-color: #00af00\">0</span> │\n",
       "├─────────────────────────────────┼────────────────────────┼───────────────┤\n",
       "│ dense_3 (<span style=\"color: #0087ff; text-decoration-color: #0087ff\">Dense</span>)                 │ (<span style=\"color: #00d7ff; text-decoration-color: #00d7ff\">None</span>, <span style=\"color: #00af00; text-decoration-color: #00af00\">300</span>)            │       <span style=\"color: #00af00; text-decoration-color: #00af00\">235,500</span> │\n",
       "├─────────────────────────────────┼────────────────────────┼───────────────┤\n",
       "│ dropout_2 (<span style=\"color: #0087ff; text-decoration-color: #0087ff\">Dropout</span>)             │ (<span style=\"color: #00d7ff; text-decoration-color: #00d7ff\">None</span>, <span style=\"color: #00af00; text-decoration-color: #00af00\">300</span>)            │             <span style=\"color: #00af00; text-decoration-color: #00af00\">0</span> │\n",
       "├─────────────────────────────────┼────────────────────────┼───────────────┤\n",
       "│ dense_4 (<span style=\"color: #0087ff; text-decoration-color: #0087ff\">Dense</span>)                 │ (<span style=\"color: #00d7ff; text-decoration-color: #00d7ff\">None</span>, <span style=\"color: #00af00; text-decoration-color: #00af00\">100</span>)            │        <span style=\"color: #00af00; text-decoration-color: #00af00\">30,100</span> │\n",
       "├─────────────────────────────────┼────────────────────────┼───────────────┤\n",
       "│ dropout_3 (<span style=\"color: #0087ff; text-decoration-color: #0087ff\">Dropout</span>)             │ (<span style=\"color: #00d7ff; text-decoration-color: #00d7ff\">None</span>, <span style=\"color: #00af00; text-decoration-color: #00af00\">100</span>)            │             <span style=\"color: #00af00; text-decoration-color: #00af00\">0</span> │\n",
       "├─────────────────────────────────┼────────────────────────┼───────────────┤\n",
       "│ dense_5 (<span style=\"color: #0087ff; text-decoration-color: #0087ff\">Dense</span>)                 │ (<span style=\"color: #00d7ff; text-decoration-color: #00d7ff\">None</span>, <span style=\"color: #00af00; text-decoration-color: #00af00\">10</span>)             │         <span style=\"color: #00af00; text-decoration-color: #00af00\">1,010</span> │\n",
       "└─────────────────────────────────┴────────────────────────┴───────────────┘\n",
       "</pre>\n"
      ]
     },
     "metadata": {}
    },
    {
     "output_type": "display_data",
     "data": {
      "text/plain": [
       "\u001B[1m Total params: \u001B[0m\u001B[38;5;34m266,610\u001B[0m (1.02 MB)\n"
      ],
      "text/html": [
       "<pre style=\"white-space:pre;overflow-x:auto;line-height:normal;font-family:Menlo,'DejaVu Sans Mono',consolas,'Courier New',monospace\"><span style=\"font-weight: bold\"> Total params: </span><span style=\"color: #00af00; text-decoration-color: #00af00\">266,610</span> (1.02 MB)\n",
       "</pre>\n"
      ]
     },
     "metadata": {}
    },
    {
     "output_type": "display_data",
     "data": {
      "text/plain": [
       "\u001B[1m Trainable params: \u001B[0m\u001B[38;5;34m266,610\u001B[0m (1.02 MB)\n"
      ],
      "text/html": [
       "<pre style=\"white-space:pre;overflow-x:auto;line-height:normal;font-family:Menlo,'DejaVu Sans Mono',consolas,'Courier New',monospace\"><span style=\"font-weight: bold\"> Trainable params: </span><span style=\"color: #00af00; text-decoration-color: #00af00\">266,610</span> (1.02 MB)\n",
       "</pre>\n"
      ]
     },
     "metadata": {}
    },
    {
     "output_type": "display_data",
     "data": {
      "text/plain": [
       "\u001B[1m Non-trainable params: \u001B[0m\u001B[38;5;34m0\u001B[0m (0.00 B)\n"
      ],
      "text/html": [
       "<pre style=\"white-space:pre;overflow-x:auto;line-height:normal;font-family:Menlo,'DejaVu Sans Mono',consolas,'Courier New',monospace\"><span style=\"font-weight: bold\"> Non-trainable params: </span><span style=\"color: #00af00; text-decoration-color: #00af00\">0</span> (0.00 B)\n",
       "</pre>\n"
      ]
     },
     "metadata": {}
    }
   ],
   "source": [
    "# Camadas ocorrem uma após a outra de maneira sequencial, chamado de Feedforward\n",
    "# Para um dataset com imagens simples como esse já deve ser o suficiente\n",
    "nn = keras.models.Sequential()\n",
    "\n",
    "# Transforma a Matriz em array de 784 elementos (28 x 28 = 784)\n",
    "# Necessária antes de camada Dense que não aceita matrizes.\n",
    "# Obs: essa é não é uma rede convolucional (não tem camadas convolucionais nem pooling) e sim uma rede Multilayer Perceptron (MLP), por isso o flatten.\n",
    "nn.add(keras.layers.Flatten(input_shape=[28, 28]))\n",
    "\n",
    "# Camada com 300 neurônios e ativação Relu\n",
    "# Basicamente se função de ativação der um resultado menor que 0, retorna 0.\n",
    "# Serve para tentar realizar um aprendizado mais rápido (Neurônios com saída 0 são \"desligados\", gerando eficiencia) e para aprender padrões complexos\n",
    "# Evita Gradiente Vanishing (ocorre quando os gradientes se tornam extremamente pequenos durante o backpropagation, paralisando o aprendizado nas camadas iniciais de redes profundas).\n",
    "nn.add(keras.layers.Dense(300, activation=\"relu\"))\n",
    "\n",
    "# Desativa aleatoriamente 10% dos neurônios durante o treino (saída = 0) a cada batch (quando há batch)\n",
    "# Serve para evitar overfitting, a rede não fica dependente de certos neurônios, acaba ficando com pesos mais 'distribuidos'\n",
    "nn.add(keras.layers.Dropout(rate=0.1))\n",
    "\n",
    "# Camada com 100 neurônios e ativação Relu\n",
    "# Pelo que pesquisamos diminuir neurônios progressivamente reduz o custo computacional sem perder desempenho e reduz a chance de overfitting.\n",
    "nn.add(keras.layers.Dense(100, activation=\"relu\"))\n",
    "\n",
    "# Desativa aleatoriamente 10% dos neurônios durante o treino (saída = 0) a cada batch\n",
    "nn.add(keras.layers.Dropout(rate=0.1))\n",
    "\n",
    "# Camada com 10 neurônios (tem que ser 10 pois cada um representa uma classe) e\n",
    "# o Softmax gera a probabilidade de ser cada uma das classes, da um resultado de 0 a 1 (somas dos resultados da 1 = 100%).\n",
    "nn.add(keras.layers.Dense(10, activation=\"softmax\"))\n",
    "\n",
    "nn.summary()"
   ]
  },
  {
   "cell_type": "markdown",
   "metadata": {
    "id": "stsKAXBTLuJx"
   },
   "source": [
    "### Compilando e treinando o modelo"
   ]
  },
  {
   "cell_type": "code",
   "execution_count": 16,
   "metadata": {
    "id": "HfTozWbnLuJx",
    "colab": {
     "base_uri": "https://localhost:8080/"
    },
    "outputId": "6566d815-75ee-4a4e-bdad-5330a07d6b24"
   },
   "outputs": [
    {
     "output_type": "stream",
     "name": "stdout",
     "text": [
      "CPU times: user 4 µs, sys: 0 ns, total: 4 µs\n",
      "Wall time: 8.11 µs\n",
      "Epoch 1/5\n",
      "\u001B[1m1719/1719\u001B[0m \u001B[32m━━━━━━━━━━━━━━━━━━━━\u001B[0m\u001B[37m\u001B[0m \u001B[1m8s\u001B[0m 4ms/step - accuracy: 0.6518 - loss: 1.0413 - val_accuracy: 0.8350 - val_loss: 0.5091\n",
      "Epoch 2/5\n",
      "\u001B[1m1719/1719\u001B[0m \u001B[32m━━━━━━━━━━━━━━━━━━━━\u001B[0m\u001B[37m\u001B[0m \u001B[1m11s\u001B[0m 4ms/step - accuracy: 0.8141 - loss: 0.5398 - val_accuracy: 0.8452 - val_loss: 0.4515\n",
      "Epoch 3/5\n",
      "\u001B[1m1719/1719\u001B[0m \u001B[32m━━━━━━━━━━━━━━━━━━━━\u001B[0m\u001B[37m\u001B[0m \u001B[1m11s\u001B[0m 5ms/step - accuracy: 0.8336 - loss: 0.4796 - val_accuracy: 0.8582 - val_loss: 0.4125\n",
      "Epoch 4/5\n",
      "\u001B[1m1719/1719\u001B[0m \u001B[32m━━━━━━━━━━━━━━━━━━━━\u001B[0m\u001B[37m\u001B[0m \u001B[1m10s\u001B[0m 4ms/step - accuracy: 0.8446 - loss: 0.4411 - val_accuracy: 0.8674 - val_loss: 0.3916\n",
      "Epoch 5/5\n",
      "\u001B[1m1719/1719\u001B[0m \u001B[32m━━━━━━━━━━━━━━━━━━━━\u001B[0m\u001B[37m\u001B[0m \u001B[1m10s\u001B[0m 4ms/step - accuracy: 0.8524 - loss: 0.4174 - val_accuracy: 0.8688 - val_loss: 0.3796\n"
     ]
    }
   ],
   "source": [
    "%time\n",
    "nn.compile(loss=\"sparse_categorical_crossentropy\",\n",
    "              optimizer=\"sgd\",\n",
    "              metrics=[\"accuracy\"])\n",
    "# Loss function é definida como sparse_categorical_crossentropy, que penaliza mais quando o modelo erra com alta confiança.\n",
    "\n",
    "# SGD (Stochastic Gradient Descent) é o otimizador, ou seja, quem ajusta os pesos para minimizar a perda controlando a taxa de aprendizado.\n",
    "# Cálcula o gradiente, é lento em datasets grandes porém em geral entrega ótimos resultados.\n",
    "\n",
    "# metrics = accuracy, no contexto de classficiação queremos aquele classifica com maior acurácia, logo essa é nossa métrica de classificação correta para a rede.\n",
    "history_nn = nn.fit(X_train, y_train, epochs=5, validation_data=(X_valid, y_valid))"
   ]
  },
  {
   "cell_type": "markdown",
   "source": [
    "### Visualizar a performance"
   ],
   "metadata": {
    "id": "Be1X1Je8eTff"
   }
  },
  {
   "cell_type": "code",
   "source": [
    "pd.DataFrame(history_nn.history).plot(figsize=(12, 8))\n",
    "plt.grid(True)\n",
    "plt.gca().set_ylim(0, 1) # set the vertical range to [0-1]\n",
    "plt.show()\n",
    "\n",
    "# Mostra a evolução dos valores ao longo das 5 épocas, começa em menos de 0.8 mas logo passa de 0.8.\n",
    "# Porém cresce muito pouco depois da segunda época, indicando que sim que o modelo aprendeu gradualmente mas foi estagnando o aprendizado.\n",
    "# Loss sofre uma queda bem expressiva no início mas sofre do mesmo problema da acurácia.\n",
    "\n",
    "# accuracy: Acurácia no conjunto de treino.\n",
    "# loss: Perda (custo) no treino.\n",
    "# val_accuracy: Acurácia no conjunto de validação.\n",
    "# val_loss: Perda na validação."
   ],
   "metadata": {
    "id": "fHwnv3EseUkP",
    "colab": {
     "base_uri": "https://localhost:8080/",
     "height": 682
    },
    "outputId": "0ca8e2ea-a0fb-4b18-d944-3886baa672c5"
   },
   "execution_count": 17,
   "outputs": [
    {
     "output_type": "display_data",
     "data": {
      "text/plain": [
       "<Figure size 1200x800 with 1 Axes>"
      ],
      "image/png": "[encoded data removed]"
     },
     "metadata": {}
    }
   ]
  },
  {
   "cell_type": "markdown",
   "metadata": {
    "id": "19B6NqclLuJx"
   },
   "source": [
    "### Avaliar o modelo"
   ]
  },
  {
   "cell_type": "code",
   "execution_count": 18,
   "metadata": {
    "id": "Ka4r9YLWLuJx",
    "colab": {
     "base_uri": "https://localhost:8080/"
    },
    "outputId": "1311ab67-a383-4f4f-91cd-c45aa8664fcb"
   },
   "outputs": [
    {
     "output_type": "stream",
     "name": "stdout",
     "text": [
      "\u001B[1m313/313\u001B[0m \u001B[32m━━━━━━━━━━━━━━━━━━━━\u001B[0m\u001B[37m\u001B[0m \u001B[1m1s\u001B[0m 2ms/step - accuracy: 0.8261 - loss: 61.1864\n"
     ]
    },
    {
     "output_type": "execute_result",
     "data": {
      "text/plain": [
       "[65.55221557617188, 0.8184000253677368]"
      ]
     },
     "metadata": {},
     "execution_count": 18
    }
   ],
   "source": [
    "# prints the loss and the accuracy\n",
    "nn.evaluate(X_test, y_test,verbose=1)\n",
    "\n",
    "# Loss bem alto, porém isso é devido a nossa loss function sparse_categorical_crossentropy,\n",
    "# que penaliza bastante previsões erradas com confiança alta.\n",
    "# O modelo classifica corretamente a maioria das amostras mas quando erra tem uma confiança bem alta na classe errada escolhida.\n",
    "\n",
    "# A acurácia não é satisfatória para um dataset simples como esse, em CNN, quando envolvemos imagens,\n",
    "# pesquisamos ser comum utilizar mais camadas pois existem sim certos padrões complexos de distinção (peças parecidas) e isso indica que provavelmente precisamos de mais camadas."
   ]
  },
  {
   "cell_type": "markdown",
   "source": [
    "###Realizar uma Previsão"
   ],
   "metadata": {
    "id": "JsCurYbOexqi"
   }
  },
  {
   "cell_type": "code",
   "source": [
    "X_novo = X_test[:4]\n",
    "y_proba = nn.predict(X_novo)\n",
    "y_proba\n",
    "\n",
    "# Podemos ver que a previsão desses exemplos é sempre 1 indicando 100% de confiança (confiança excessiva).\n",
    "# Conforme falamos um pouco no bloco anterior"
   ],
   "metadata": {
    "id": "rsYS-xfFe3Iv",
    "colab": {
     "base_uri": "https://localhost:8080/"
    },
    "outputId": "510aea45-35d8-4f75-eb9a-ac01bcae9cee"
   },
   "execution_count": 19,
   "outputs": [
    {
     "output_type": "stream",
     "name": "stdout",
     "text": [
      "\u001B[1m1/1\u001B[0m \u001B[32m━━━━━━━━━━━━━━━━━━━━\u001B[0m\u001B[37m\u001B[0m \u001B[1m0s\u001B[0m 71ms/step\n"
     ]
    },
    {
     "output_type": "execute_result",
     "data": {
      "text/plain": [
       "array([[0., 0., 0., 0., 0., 0., 0., 0., 0., 1.],\n",
       "       [0., 0., 1., 0., 0., 0., 0., 0., 0., 0.],\n",
       "       [0., 1., 0., 0., 0., 0., 0., 0., 0., 0.],\n",
       "       [0., 1., 0., 0., 0., 0., 0., 0., 0., 0.]], dtype=float32)"
      ]
     },
     "metadata": {},
     "execution_count": 19
    }
   ]
  },
  {
   "cell_type": "code",
   "source": [
    "y_pred = np.argmax(nn.predict(X_novo), axis=-1)\n",
    "print(y_pred)\n",
    "print(np.array(nomes_classes)[y_pred])"
   ],
   "metadata": {
    "id": "Zt6c0pFGe6-I",
    "colab": {
     "base_uri": "https://localhost:8080/"
    },
    "outputId": "66445023-eb52-41da-ef43-87db8d0d8a68"
   },
   "execution_count": 20,
   "outputs": [
    {
     "output_type": "stream",
     "name": "stdout",
     "text": [
      "\u001B[1m1/1\u001B[0m \u001B[32m━━━━━━━━━━━━━━━━━━━━\u001B[0m\u001B[37m\u001B[0m \u001B[1m0s\u001B[0m 33ms/step\n",
      "[9 2 1 1]\n",
      "['bota' 'casaco' 'calca' 'calca']\n"
     ]
    }
   ]
  },
  {
   "cell_type": "markdown",
   "source": [
    "### Verificar os resultados"
   ],
   "metadata": {
    "id": "TF4oMeAie9PZ"
   }
  },
  {
   "cell_type": "code",
   "source": [
    "y_novo = y_test[:4]\n",
    "print(y_novo)\n",
    "np.array(nomes_classes)[y_pred]\n",
    "# Esta certo ao menos"
   ],
   "metadata": {
    "id": "OfnX_KyjfGYN",
    "colab": {
     "base_uri": "https://localhost:8080/"
    },
    "outputId": "724055c2-bea3-4128-ae11-940f96b5f592"
   },
   "execution_count": 21,
   "outputs": [
    {
     "output_type": "stream",
     "name": "stdout",
     "text": [
      "[9 2 1 1]\n"
     ]
    },
    {
     "output_type": "execute_result",
     "data": {
      "text/plain": [
       "array(['bota', 'casaco', 'calca', 'calca'], dtype='<U10')"
      ]
     },
     "metadata": {},
     "execution_count": 21
    }
   ]
  },
  {
   "cell_type": "code",
   "source": [
    "# example_n = 201 - Não entendemos\n",
    "print(nomes_classes[y_pred[2]])\n",
    "plt.imshow(X_novo[2], interpolation='nearest')\n",
    "plt.show()\n",
    "# Identificado corretamente"
   ],
   "metadata": {
    "id": "GPI45glHfITC",
    "colab": {
     "base_uri": "https://localhost:8080/",
     "height": 447
    },
    "outputId": "bbcdfdaa-0f82-432e-fcad-16037c7970bb"
   },
   "execution_count": 24,
   "outputs": [
    {
     "output_type": "stream",
     "name": "stdout",
     "text": [
      "calca\n"
     ]
    },
    {
     "output_type": "display_data",
     "data": {
      "text/plain": [
       "<Figure size 640x480 with 1 Axes>"
      ],
      "image/png": "[encoded data removed]"
     },
     "metadata": {}
    }
   ]
  },
  {
   "cell_type": "markdown",
   "metadata": {
    "id": "YA9PAIkXLuJx"
   },
   "source": [
    "# Treinando CNN com Keras"
   ]
  },
  {
   "cell_type": "code",
   "execution_count": 9,
   "metadata": {
    "id": "xlAbxJaoLuJx",
    "colab": {
     "base_uri": "https://localhost:8080/"
    },
    "outputId": "254dff7d-3c12-4451-a769-0e93fbd8f88a"
   },
   "outputs": [
    {
     "output_type": "stream",
     "name": "stderr",
     "text": [
      "/usr/local/lib/python3.11/dist-packages/keras/src/layers/core/input_layer.py:27: UserWarning: Argument `input_shape` is deprecated. Use `shape` instead.\n",
      "  warnings.warn(\n"
     ]
    }
   ],
   "source": [
    "cnn = keras.models.Sequential([\n",
    "\n",
    "# Definimos a entrada: imagens 28x28 com 1 canal (esse canal representa o grayscale, se fosse RGB seriam 3)\n",
    "keras.layers.InputLayer(input_shape = (28,28,1)),\n",
    "\n",
    "\n",
    "\n",
    "# Camada convulucional (agora sim é uma CNN!!) em que definimos o número de filtros que a camada aprenderá como 64,\n",
    "  ## Cada filtro detecta padrões diferentes (bordas, texturas, etc).\n",
    "  ## Isso faz que o output dela seja 28x28x64 (64 mapas de características, um por filtro).\n",
    "\n",
    " # o segundo parâmetro é o kernel,\n",
    "  ## definimos a janela da convolução para 5x5 pixels, kernels maiores capturam features(características) maiores e menores capturam features menores\n",
    "\n",
    " # padding='same', mantém o tamanho de sáida para o tamanho de entrada. Faz isso ser possível mesmo com a convolução adicionando pixels extra ao redor da imagem (zeros)\n",
    "\n",
    " # kernel_initializer='glorot_uniform', kernel_initializer define como os pesos(kernels) de uma camada são inicializados antes do treinamento.\n",
    "  ## glorot_uniform tenta prevenir vanishing/exploding gradient (pesos se atualizarem muito devagar ou muito rápido), através do controle de variância dos pesos,\n",
    "  ## esse controle ocorre quando a rede é inicializada com valores aleatórios, no efeito de propagação e no backpropagation.\n",
    "  ## para pegar o range de pesos desejado, se faz sqrt(2 / (fan_in + fan_out)), baseado na documentação https://keras.io/api/layers/initializers/\n",
    "  ## fan_in = kernel_height * kernel_width * input_channels e fan_out = kernel_height * kernel_width * output_channels\n",
    "  ## fan_in = 5 * 5 * 1 = 25 e fan_out = 5 * 5 * 64 = 1600. Range = 0.035+-\n",
    "keras.layers.Conv2D(64,5, activation='relu', padding='same', kernel_initializer='glorot_uniform'),\n",
    "\n",
    "# Esta é uma camada de pooling máximo 2D, que reduz a dimensionalidade espacial da saída da convolução, tentando preservar as características mais importantes da convolução.\n",
    "  ## Isso funciona pois, se um neurônio ativou fortemente em uma região, é porque detectou um padrão relevante (ex: uma borda ou textura)\n",
    "  ## Gera um ganho de eficiência computacional absurdo e reduz a sensibilidade a ruídos\n",
    "\n",
    "  ## O 2 passado se refere ao pool_size, que é o tamanho da janela de pooling (2x2 pixels). A janela passa pela imagem pegando o valor máximo em cada região.\n",
    "\n",
    "  ## Há 2 parâmetros não especificados, strides, que tem como valor padrão pool_size e padding, que tem como valor padrão valid\n",
    "  ## strides=pool_size é o passo (distância) de cada delizamento da janela deslizante, com pool_size as janelas não se sobrepoem e gera grande redução dimensional\n",
    "  ## padding=valid, como o padding explicado na camada convulucional acima, porém o valid faz com que a imagem não seja preenchida com zeros para preservar sua dimensionalidade (o que no pooling é o que queremos)\n",
    "keras.layers.MaxPool2D(2),\n",
    "\n",
    "\n",
    "\n",
    "# As 2 camadas convolucionais possuem 128 filtros com uma janela de 3x3 cada uma.\n",
    "# Conforme avançamos na CNN estamos tentando pegar caracteristicas/formas mais complexas (pequenos conjuntos de pixels específicos diferentes em cada tipo de calça etc).\n",
    "# O motivo de termos 2 camadas convolucionais seguidas seria pois a primeira camada detecta características simples (bordas, cores),\n",
    "# e a segunda combina essas características em padrões mais complexos (como formas geométricas)\n",
    "  # Exemplo prático em nosso contexto:\n",
    "  ## Primeira Conv2D:Detecta bordas verticais/horizontais do tecido.\n",
    "  ## Segunda Conv2D: Combina bordas para reconhecer padrões de zíper ou bolsos.\n",
    "  ## MaxPool2D: Preserva apenas as regiões onde os padrões são mais fortes (ex.: zíper central).\n",
    "\n",
    "# Continuamos con activation relu e como o kernel_initializer não é especificado, é utilizado por padrão o glorot_uniform (conforme documentação https://keras.io/api/layers/convolution_layers/convolution2d/)\n",
    "keras.layers.Conv2D(128,3, activation='relu', padding='same'),\n",
    "keras.layers.Conv2D(128,3, activation='relu', padding='same'),\n",
    "keras.layers.MaxPool2D(2), # Reduzimos ainda mais a dimensionalidade com o max pooling novamente\n",
    "\n",
    "\n",
    "\n",
    "# Conforme aprofundamos mais a rede e diminuimos já 2 vezes a dimensionalidade com 2 max pooling,\n",
    "# podemos aumentar ainda mais a quantidade de filtros sem prejudicar muito a performance da rede (são 258 filtro de 3x3 pixels).\n",
    "\n",
    "# Mesmo princípio do 'bloco' anterior a fim de filtrar caracteristicas ainda mais especificas, porém com maior quantidade de filtros\n",
    "keras.layers.Conv2D(258,3, activation='relu', padding='same'),\n",
    "keras.layers.Conv2D(258,3, activation='relu', padding='same'),\n",
    "keras.layers.MaxPool2D(2),\n",
    "\n",
    "\n",
    "\n",
    "# Nesse ponto passamos a usar uma RNA, que só aceita vetores, então fazemos o flatten que converte de 3x3x258 = 2322\n",
    "keras.layers.Flatten(),\n",
    "\n",
    "# Após extrairmos as caracteristicas com as camadas convolucionas, basicamente usamos uma RNA para aprender suas relações e classificar elas dentre as 10 classes.\n",
    "# Utilizamos a rede densa semelhante a anterior para isso\n",
    "\n",
    "# O que mudamos aqui é o dropout que agora é de metade dos neurônios, pois antes a rede estava com muita confinça nas predições\n",
    "# Conforme explicamos antes, ele serve para evitar overfitting, a rede não fica dependente de certos neurônios, acaba ficando com pesos mais 'distribuidos'\n",
    "\n",
    "# Camada com 128 neurônios e ativação Relu já explicada\n",
    "keras.layers.Dense(128, activation=\"relu\"),\n",
    "keras.layers.Dropout(rate=0.5),\n",
    "# Camada com 64 neurônios e ativação Relu já explicada\n",
    "keras.layers.Dense(64, activation=\"relu\"),\n",
    "keras.layers.Dropout(rate=0.5),\n",
    "\n",
    "# Saida com a mesma lógica da rede anterior\n",
    "keras.layers.Dense(10, activation=\"softmax\")])\n"
   ]
  },
  {
   "cell_type": "markdown",
   "source": [],
   "metadata": {
    "id": "n-S_Dn89kl-t"
   }
  },
  {
   "cell_type": "code",
   "execution_count": 10,
   "metadata": {
    "id": "cxw6_5HMLuJx",
    "colab": {
     "base_uri": "https://localhost:8080/",
     "height": 577
    },
    "outputId": "1ed8cb2d-847c-418e-bbf3-e65e3ffee152"
   },
   "outputs": [
    {
     "output_type": "display_data",
     "data": {
      "text/plain": [
       "\u001B[1mModel: \"sequential\"\u001B[0m\n"
      ],
      "text/html": [
       "<pre style=\"white-space:pre;overflow-x:auto;line-height:normal;font-family:Menlo,'DejaVu Sans Mono',consolas,'Courier New',monospace\"><span style=\"font-weight: bold\">Model: \"sequential\"</span>\n",
       "</pre>\n"
      ]
     },
     "metadata": {}
    },
    {
     "output_type": "display_data",
     "data": {
      "text/plain": [
       "┏━━━━━━━━━━━━━━━━━━━━━━━━━━━━━━━━━┳━━━━━━━━━━━━━━━━━━━━━━━━┳━━━━━━━━━━━━━━━┓\n",
       "┃\u001B[1m \u001B[0m\u001B[1mLayer (type)                   \u001B[0m\u001B[1m \u001B[0m┃\u001B[1m \u001B[0m\u001B[1mOutput Shape          \u001B[0m\u001B[1m \u001B[0m┃\u001B[1m \u001B[0m\u001B[1m      Param #\u001B[0m\u001B[1m \u001B[0m┃\n",
       "┡━━━━━━━━━━━━━━━━━━━━━━━━━━━━━━━━━╇━━━━━━━━━━━━━━━━━━━━━━━━╇━━━━━━━━━━━━━━━┩\n",
       "│ conv2d (\u001B[38;5;33mConv2D\u001B[0m)                 │ (\u001B[38;5;45mNone\u001B[0m, \u001B[38;5;34m28\u001B[0m, \u001B[38;5;34m28\u001B[0m, \u001B[38;5;34m64\u001B[0m)     │         \u001B[38;5;34m1,664\u001B[0m │\n",
       "├─────────────────────────────────┼────────────────────────┼───────────────┤\n",
       "│ max_pooling2d (\u001B[38;5;33mMaxPooling2D\u001B[0m)    │ (\u001B[38;5;45mNone\u001B[0m, \u001B[38;5;34m14\u001B[0m, \u001B[38;5;34m14\u001B[0m, \u001B[38;5;34m64\u001B[0m)     │             \u001B[38;5;34m0\u001B[0m │\n",
       "├─────────────────────────────────┼────────────────────────┼───────────────┤\n",
       "│ conv2d_1 (\u001B[38;5;33mConv2D\u001B[0m)               │ (\u001B[38;5;45mNone\u001B[0m, \u001B[38;5;34m14\u001B[0m, \u001B[38;5;34m14\u001B[0m, \u001B[38;5;34m128\u001B[0m)    │        \u001B[38;5;34m73,856\u001B[0m │\n",
       "├─────────────────────────────────┼────────────────────────┼───────────────┤\n",
       "│ conv2d_2 (\u001B[38;5;33mConv2D\u001B[0m)               │ (\u001B[38;5;45mNone\u001B[0m, \u001B[38;5;34m14\u001B[0m, \u001B[38;5;34m14\u001B[0m, \u001B[38;5;34m128\u001B[0m)    │       \u001B[38;5;34m147,584\u001B[0m │\n",
       "├─────────────────────────────────┼────────────────────────┼───────────────┤\n",
       "│ max_pooling2d_1 (\u001B[38;5;33mMaxPooling2D\u001B[0m)  │ (\u001B[38;5;45mNone\u001B[0m, \u001B[38;5;34m7\u001B[0m, \u001B[38;5;34m7\u001B[0m, \u001B[38;5;34m128\u001B[0m)      │             \u001B[38;5;34m0\u001B[0m │\n",
       "├─────────────────────────────────┼────────────────────────┼───────────────┤\n",
       "│ conv2d_3 (\u001B[38;5;33mConv2D\u001B[0m)               │ (\u001B[38;5;45mNone\u001B[0m, \u001B[38;5;34m7\u001B[0m, \u001B[38;5;34m7\u001B[0m, \u001B[38;5;34m258\u001B[0m)      │       \u001B[38;5;34m297,474\u001B[0m │\n",
       "├─────────────────────────────────┼────────────────────────┼───────────────┤\n",
       "│ conv2d_4 (\u001B[38;5;33mConv2D\u001B[0m)               │ (\u001B[38;5;45mNone\u001B[0m, \u001B[38;5;34m7\u001B[0m, \u001B[38;5;34m7\u001B[0m, \u001B[38;5;34m258\u001B[0m)      │       \u001B[38;5;34m599,334\u001B[0m │\n",
       "├─────────────────────────────────┼────────────────────────┼───────────────┤\n",
       "│ max_pooling2d_2 (\u001B[38;5;33mMaxPooling2D\u001B[0m)  │ (\u001B[38;5;45mNone\u001B[0m, \u001B[38;5;34m3\u001B[0m, \u001B[38;5;34m3\u001B[0m, \u001B[38;5;34m258\u001B[0m)      │             \u001B[38;5;34m0\u001B[0m │\n",
       "├─────────────────────────────────┼────────────────────────┼───────────────┤\n",
       "│ flatten (\u001B[38;5;33mFlatten\u001B[0m)               │ (\u001B[38;5;45mNone\u001B[0m, \u001B[38;5;34m2322\u001B[0m)           │             \u001B[38;5;34m0\u001B[0m │\n",
       "├─────────────────────────────────┼────────────────────────┼───────────────┤\n",
       "│ dense (\u001B[38;5;33mDense\u001B[0m)                   │ (\u001B[38;5;45mNone\u001B[0m, \u001B[38;5;34m128\u001B[0m)            │       \u001B[38;5;34m297,344\u001B[0m │\n",
       "├─────────────────────────────────┼────────────────────────┼───────────────┤\n",
       "│ dropout (\u001B[38;5;33mDropout\u001B[0m)               │ (\u001B[38;5;45mNone\u001B[0m, \u001B[38;5;34m128\u001B[0m)            │             \u001B[38;5;34m0\u001B[0m │\n",
       "├─────────────────────────────────┼────────────────────────┼───────────────┤\n",
       "│ dense_1 (\u001B[38;5;33mDense\u001B[0m)                 │ (\u001B[38;5;45mNone\u001B[0m, \u001B[38;5;34m64\u001B[0m)             │         \u001B[38;5;34m8,256\u001B[0m │\n",
       "├─────────────────────────────────┼────────────────────────┼───────────────┤\n",
       "│ dropout_1 (\u001B[38;5;33mDropout\u001B[0m)             │ (\u001B[38;5;45mNone\u001B[0m, \u001B[38;5;34m64\u001B[0m)             │             \u001B[38;5;34m0\u001B[0m │\n",
       "├─────────────────────────────────┼────────────────────────┼───────────────┤\n",
       "│ dense_2 (\u001B[38;5;33mDense\u001B[0m)                 │ (\u001B[38;5;45mNone\u001B[0m, \u001B[38;5;34m10\u001B[0m)             │           \u001B[38;5;34m650\u001B[0m │\n",
       "└─────────────────────────────────┴────────────────────────┴───────────────┘\n"
      ],
      "text/html": [
       "<pre style=\"white-space:pre;overflow-x:auto;line-height:normal;font-family:Menlo,'DejaVu Sans Mono',consolas,'Courier New',monospace\">┏━━━━━━━━━━━━━━━━━━━━━━━━━━━━━━━━━┳━━━━━━━━━━━━━━━━━━━━━━━━┳━━━━━━━━━━━━━━━┓\n",
       "┃<span style=\"font-weight: bold\"> Layer (type)                    </span>┃<span style=\"font-weight: bold\"> Output Shape           </span>┃<span style=\"font-weight: bold\">       Param # </span>┃\n",
       "┡━━━━━━━━━━━━━━━━━━━━━━━━━━━━━━━━━╇━━━━━━━━━━━━━━━━━━━━━━━━╇━━━━━━━━━━━━━━━┩\n",
       "│ conv2d (<span style=\"color: #0087ff; text-decoration-color: #0087ff\">Conv2D</span>)                 │ (<span style=\"color: #00d7ff; text-decoration-color: #00d7ff\">None</span>, <span style=\"color: #00af00; text-decoration-color: #00af00\">28</span>, <span style=\"color: #00af00; text-decoration-color: #00af00\">28</span>, <span style=\"color: #00af00; text-decoration-color: #00af00\">64</span>)     │         <span style=\"color: #00af00; text-decoration-color: #00af00\">1,664</span> │\n",
       "├─────────────────────────────────┼────────────────────────┼───────────────┤\n",
       "│ max_pooling2d (<span style=\"color: #0087ff; text-decoration-color: #0087ff\">MaxPooling2D</span>)    │ (<span style=\"color: #00d7ff; text-decoration-color: #00d7ff\">None</span>, <span style=\"color: #00af00; text-decoration-color: #00af00\">14</span>, <span style=\"color: #00af00; text-decoration-color: #00af00\">14</span>, <span style=\"color: #00af00; text-decoration-color: #00af00\">64</span>)     │             <span style=\"color: #00af00; text-decoration-color: #00af00\">0</span> │\n",
       "├─────────────────────────────────┼────────────────────────┼───────────────┤\n",
       "│ conv2d_1 (<span style=\"color: #0087ff; text-decoration-color: #0087ff\">Conv2D</span>)               │ (<span style=\"color: #00d7ff; text-decoration-color: #00d7ff\">None</span>, <span style=\"color: #00af00; text-decoration-color: #00af00\">14</span>, <span style=\"color: #00af00; text-decoration-color: #00af00\">14</span>, <span style=\"color: #00af00; text-decoration-color: #00af00\">128</span>)    │        <span style=\"color: #00af00; text-decoration-color: #00af00\">73,856</span> │\n",
       "├─────────────────────────────────┼────────────────────────┼───────────────┤\n",
       "│ conv2d_2 (<span style=\"color: #0087ff; text-decoration-color: #0087ff\">Conv2D</span>)               │ (<span style=\"color: #00d7ff; text-decoration-color: #00d7ff\">None</span>, <span style=\"color: #00af00; text-decoration-color: #00af00\">14</span>, <span style=\"color: #00af00; text-decoration-color: #00af00\">14</span>, <span style=\"color: #00af00; text-decoration-color: #00af00\">128</span>)    │       <span style=\"color: #00af00; text-decoration-color: #00af00\">147,584</span> │\n",
       "├─────────────────────────────────┼────────────────────────┼───────────────┤\n",
       "│ max_pooling2d_1 (<span style=\"color: #0087ff; text-decoration-color: #0087ff\">MaxPooling2D</span>)  │ (<span style=\"color: #00d7ff; text-decoration-color: #00d7ff\">None</span>, <span style=\"color: #00af00; text-decoration-color: #00af00\">7</span>, <span style=\"color: #00af00; text-decoration-color: #00af00\">7</span>, <span style=\"color: #00af00; text-decoration-color: #00af00\">128</span>)      │             <span style=\"color: #00af00; text-decoration-color: #00af00\">0</span> │\n",
       "├─────────────────────────────────┼────────────────────────┼───────────────┤\n",
       "│ conv2d_3 (<span style=\"color: #0087ff; text-decoration-color: #0087ff\">Conv2D</span>)               │ (<span style=\"color: #00d7ff; text-decoration-color: #00d7ff\">None</span>, <span style=\"color: #00af00; text-decoration-color: #00af00\">7</span>, <span style=\"color: #00af00; text-decoration-color: #00af00\">7</span>, <span style=\"color: #00af00; text-decoration-color: #00af00\">258</span>)      │       <span style=\"color: #00af00; text-decoration-color: #00af00\">297,474</span> │\n",
       "├─────────────────────────────────┼────────────────────────┼───────────────┤\n",
       "│ conv2d_4 (<span style=\"color: #0087ff; text-decoration-color: #0087ff\">Conv2D</span>)               │ (<span style=\"color: #00d7ff; text-decoration-color: #00d7ff\">None</span>, <span style=\"color: #00af00; text-decoration-color: #00af00\">7</span>, <span style=\"color: #00af00; text-decoration-color: #00af00\">7</span>, <span style=\"color: #00af00; text-decoration-color: #00af00\">258</span>)      │       <span style=\"color: #00af00; text-decoration-color: #00af00\">599,334</span> │\n",
       "├─────────────────────────────────┼────────────────────────┼───────────────┤\n",
       "│ max_pooling2d_2 (<span style=\"color: #0087ff; text-decoration-color: #0087ff\">MaxPooling2D</span>)  │ (<span style=\"color: #00d7ff; text-decoration-color: #00d7ff\">None</span>, <span style=\"color: #00af00; text-decoration-color: #00af00\">3</span>, <span style=\"color: #00af00; text-decoration-color: #00af00\">3</span>, <span style=\"color: #00af00; text-decoration-color: #00af00\">258</span>)      │             <span style=\"color: #00af00; text-decoration-color: #00af00\">0</span> │\n",
       "├─────────────────────────────────┼────────────────────────┼───────────────┤\n",
       "│ flatten (<span style=\"color: #0087ff; text-decoration-color: #0087ff\">Flatten</span>)               │ (<span style=\"color: #00d7ff; text-decoration-color: #00d7ff\">None</span>, <span style=\"color: #00af00; text-decoration-color: #00af00\">2322</span>)           │             <span style=\"color: #00af00; text-decoration-color: #00af00\">0</span> │\n",
       "├─────────────────────────────────┼────────────────────────┼───────────────┤\n",
       "│ dense (<span style=\"color: #0087ff; text-decoration-color: #0087ff\">Dense</span>)                   │ (<span style=\"color: #00d7ff; text-decoration-color: #00d7ff\">None</span>, <span style=\"color: #00af00; text-decoration-color: #00af00\">128</span>)            │       <span style=\"color: #00af00; text-decoration-color: #00af00\">297,344</span> │\n",
       "├─────────────────────────────────┼────────────────────────┼───────────────┤\n",
       "│ dropout (<span style=\"color: #0087ff; text-decoration-color: #0087ff\">Dropout</span>)               │ (<span style=\"color: #00d7ff; text-decoration-color: #00d7ff\">None</span>, <span style=\"color: #00af00; text-decoration-color: #00af00\">128</span>)            │             <span style=\"color: #00af00; text-decoration-color: #00af00\">0</span> │\n",
       "├─────────────────────────────────┼────────────────────────┼───────────────┤\n",
       "│ dense_1 (<span style=\"color: #0087ff; text-decoration-color: #0087ff\">Dense</span>)                 │ (<span style=\"color: #00d7ff; text-decoration-color: #00d7ff\">None</span>, <span style=\"color: #00af00; text-decoration-color: #00af00\">64</span>)             │         <span style=\"color: #00af00; text-decoration-color: #00af00\">8,256</span> │\n",
       "├─────────────────────────────────┼────────────────────────┼───────────────┤\n",
       "│ dropout_1 (<span style=\"color: #0087ff; text-decoration-color: #0087ff\">Dropout</span>)             │ (<span style=\"color: #00d7ff; text-decoration-color: #00d7ff\">None</span>, <span style=\"color: #00af00; text-decoration-color: #00af00\">64</span>)             │             <span style=\"color: #00af00; text-decoration-color: #00af00\">0</span> │\n",
       "├─────────────────────────────────┼────────────────────────┼───────────────┤\n",
       "│ dense_2 (<span style=\"color: #0087ff; text-decoration-color: #0087ff\">Dense</span>)                 │ (<span style=\"color: #00d7ff; text-decoration-color: #00d7ff\">None</span>, <span style=\"color: #00af00; text-decoration-color: #00af00\">10</span>)             │           <span style=\"color: #00af00; text-decoration-color: #00af00\">650</span> │\n",
       "└─────────────────────────────────┴────────────────────────┴───────────────┘\n",
       "</pre>\n"
      ]
     },
     "metadata": {}
    },
    {
     "output_type": "display_data",
     "data": {
      "text/plain": [
       "\u001B[1m Total params: \u001B[0m\u001B[38;5;34m1,426,162\u001B[0m (5.44 MB)\n"
      ],
      "text/html": [
       "<pre style=\"white-space:pre;overflow-x:auto;line-height:normal;font-family:Menlo,'DejaVu Sans Mono',consolas,'Courier New',monospace\"><span style=\"font-weight: bold\"> Total params: </span><span style=\"color: #00af00; text-decoration-color: #00af00\">1,426,162</span> (5.44 MB)\n",
       "</pre>\n"
      ]
     },
     "metadata": {}
    },
    {
     "output_type": "display_data",
     "data": {
      "text/plain": [
       "\u001B[1m Trainable params: \u001B[0m\u001B[38;5;34m1,426,162\u001B[0m (5.44 MB)\n"
      ],
      "text/html": [
       "<pre style=\"white-space:pre;overflow-x:auto;line-height:normal;font-family:Menlo,'DejaVu Sans Mono',consolas,'Courier New',monospace\"><span style=\"font-weight: bold\"> Trainable params: </span><span style=\"color: #00af00; text-decoration-color: #00af00\">1,426,162</span> (5.44 MB)\n",
       "</pre>\n"
      ]
     },
     "metadata": {}
    },
    {
     "output_type": "display_data",
     "data": {
      "text/plain": [
       "\u001B[1m Non-trainable params: \u001B[0m\u001B[38;5;34m0\u001B[0m (0.00 B)\n"
      ],
      "text/html": [
       "<pre style=\"white-space:pre;overflow-x:auto;line-height:normal;font-family:Menlo,'DejaVu Sans Mono',consolas,'Courier New',monospace\"><span style=\"font-weight: bold\"> Non-trainable params: </span><span style=\"color: #00af00; text-decoration-color: #00af00\">0</span> (0.00 B)\n",
       "</pre>\n"
      ]
     },
     "metadata": {}
    }
   ],
   "source": [
    "cnn.summary()"
   ]
  },
  {
   "cell_type": "code",
   "execution_count": 11,
   "metadata": {
    "id": "wEhTE1mVLuJx",
    "colab": {
     "base_uri": "https://localhost:8080/"
    },
    "outputId": "748a373b-f306-4241-ec0c-f22d4cb339b2"
   },
   "outputs": [
    {
     "output_type": "stream",
     "name": "stdout",
     "text": [
      "(55000, 28, 28)\n",
      "(55000, 28, 28, 1)\n"
     ]
    }
   ],
   "source": [
    "print(X_train.shape)\n",
    "X_train_new = X_train.reshape(X_train.shape[0], X_train.shape[1], X_train.shape[2],1)\n",
    "X_valid_new = X_valid.reshape(X_valid.shape[0], X_valid.shape[1], X_valid.shape[2],1)\n",
    "X_test_new = X_test.reshape(X_test.shape[0], X_test.shape[1], X_test.shape[2],1)\n",
    "print(X_train_new.shape)"
   ]
  },
  {
   "cell_type": "code",
   "execution_count": 13,
   "metadata": {
    "id": "vr80opDHLuJx",
    "colab": {
     "base_uri": "https://localhost:8080/"
    },
    "outputId": "0c8bd712-3ec4-479e-d091-c646b9a1693b"
   },
   "outputs": [
    {
     "output_type": "stream",
     "name": "stdout",
     "text": [
      "Epoch 1/20\n",
      "\u001B[1m1719/1719\u001B[0m \u001B[32m━━━━━━━━━━━━━━━━━━━━\u001B[0m\u001B[37m\u001B[0m \u001B[1m673s\u001B[0m 391ms/step - accuracy: 0.3296 - loss: 1.8275 - val_accuracy: 0.7624 - val_loss: 0.6783\n",
      "Epoch 2/20\n",
      "\u001B[1m1719/1719\u001B[0m \u001B[32m━━━━━━━━━━━━━━━━━━━━\u001B[0m\u001B[37m\u001B[0m \u001B[1m671s\u001B[0m 385ms/step - accuracy: 0.6794 - loss: 0.8626 - val_accuracy: 0.7924 - val_loss: 0.5738\n",
      "Epoch 3/20\n",
      "\u001B[1m1719/1719\u001B[0m \u001B[32m━━━━━━━━━━━━━━━━━━━━\u001B[0m\u001B[37m\u001B[0m \u001B[1m698s\u001B[0m 394ms/step - accuracy: 0.7451 - loss: 0.6995 - val_accuracy: 0.8234 - val_loss: 0.4592\n",
      "Epoch 4/20\n",
      "\u001B[1m1719/1719\u001B[0m \u001B[32m━━━━━━━━━━━━━━━━━━━━\u001B[0m\u001B[37m\u001B[0m \u001B[1m687s\u001B[0m 397ms/step - accuracy: 0.7830 - loss: 0.6011 - val_accuracy: 0.8426 - val_loss: 0.4412\n",
      "Epoch 5/20\n",
      "\u001B[1m1719/1719\u001B[0m \u001B[32m━━━━━━━━━━━━━━━━━━━━\u001B[0m\u001B[37m\u001B[0m \u001B[1m667s\u001B[0m 388ms/step - accuracy: 0.8067 - loss: 0.5516 - val_accuracy: 0.8592 - val_loss: 0.3975\n",
      "Epoch 6/20\n",
      "\u001B[1m1719/1719\u001B[0m \u001B[32m━━━━━━━━━━━━━━━━━━━━\u001B[0m\u001B[37m\u001B[0m \u001B[1m663s\u001B[0m 386ms/step - accuracy: 0.8162 - loss: 0.5197 - val_accuracy: 0.8668 - val_loss: 0.3794\n",
      "Epoch 7/20\n",
      "\u001B[1m1719/1719\u001B[0m \u001B[32m━━━━━━━━━━━━━━━━━━━━\u001B[0m\u001B[37m\u001B[0m \u001B[1m685s\u001B[0m 388ms/step - accuracy: 0.8312 - loss: 0.4855 - val_accuracy: 0.8688 - val_loss: 0.3554\n",
      "Epoch 8/20\n",
      "\u001B[1m1719/1719\u001B[0m \u001B[32m━━━━━━━━━━━━━━━━━━━━\u001B[0m\u001B[37m\u001B[0m \u001B[1m683s\u001B[0m 388ms/step - accuracy: 0.8439 - loss: 0.4510 - val_accuracy: 0.8712 - val_loss: 0.3427\n",
      "Epoch 9/20\n",
      "\u001B[1m1719/1719\u001B[0m \u001B[32m━━━━━━━━━━━━━━━━━━━━\u001B[0m\u001B[37m\u001B[0m \u001B[1m651s\u001B[0m 379ms/step - accuracy: 0.8510 - loss: 0.4303 - val_accuracy: 0.8762 - val_loss: 0.3413\n",
      "Epoch 10/20\n",
      "\u001B[1m1719/1719\u001B[0m \u001B[32m━━━━━━━━━━━━━━━━━━━━\u001B[0m\u001B[37m\u001B[0m \u001B[1m701s\u001B[0m 390ms/step - accuracy: 0.8573 - loss: 0.4097 - val_accuracy: 0.8768 - val_loss: 0.3238\n",
      "Epoch 11/20\n",
      "\u001B[1m1719/1719\u001B[0m \u001B[32m━━━━━━━━━━━━━━━━━━━━\u001B[0m\u001B[37m\u001B[0m \u001B[1m664s\u001B[0m 380ms/step - accuracy: 0.8605 - loss: 0.4007 - val_accuracy: 0.8772 - val_loss: 0.3222\n",
      "Epoch 12/20\n",
      "\u001B[1m1719/1719\u001B[0m \u001B[32m━━━━━━━━━━━━━━━━━━━━\u001B[0m\u001B[37m\u001B[0m \u001B[1m674s\u001B[0m 375ms/step - accuracy: 0.8685 - loss: 0.3770 - val_accuracy: 0.8892 - val_loss: 0.3006\n",
      "Epoch 13/20\n",
      "\u001B[1m1719/1719\u001B[0m \u001B[32m━━━━━━━━━━━━━━━━━━━━\u001B[0m\u001B[37m\u001B[0m \u001B[1m692s\u001B[0m 381ms/step - accuracy: 0.8722 - loss: 0.3652 - val_accuracy: 0.8920 - val_loss: 0.2968\n",
      "Epoch 14/20\n",
      "\u001B[1m1719/1719\u001B[0m \u001B[32m━━━━━━━━━━━━━━━━━━━━\u001B[0m\u001B[37m\u001B[0m \u001B[1m669s\u001B[0m 374ms/step - accuracy: 0.8778 - loss: 0.3509 - val_accuracy: 0.8932 - val_loss: 0.2888\n",
      "Epoch 15/20\n",
      "\u001B[1m1719/1719\u001B[0m \u001B[32m━━━━━━━━━━━━━━━━━━━━\u001B[0m\u001B[37m\u001B[0m \u001B[1m692s\u001B[0m 380ms/step - accuracy: 0.8793 - loss: 0.3404 - val_accuracy: 0.8910 - val_loss: 0.2861\n",
      "Epoch 16/20\n",
      "\u001B[1m1719/1719\u001B[0m \u001B[32m━━━━━━━━━━━━━━━━━━━━\u001B[0m\u001B[37m\u001B[0m \u001B[1m657s\u001B[0m 382ms/step - accuracy: 0.8834 - loss: 0.3357 - val_accuracy: 0.8970 - val_loss: 0.2833\n",
      "Epoch 17/20\n",
      "\u001B[1m1719/1719\u001B[0m \u001B[32m━━━━━━━━━━━━━━━━━━━━\u001B[0m\u001B[37m\u001B[0m \u001B[1m678s\u001B[0m 380ms/step - accuracy: 0.8884 - loss: 0.3201 - val_accuracy: 0.8964 - val_loss: 0.2873\n",
      "Epoch 18/20\n",
      "\u001B[1m1719/1719\u001B[0m \u001B[32m━━━━━━━━━━━━━━━━━━━━\u001B[0m\u001B[37m\u001B[0m \u001B[1m684s\u001B[0m 381ms/step - accuracy: 0.8902 - loss: 0.3144 - val_accuracy: 0.9008 - val_loss: 0.2800\n",
      "Epoch 19/20\n",
      "\u001B[1m1719/1719\u001B[0m \u001B[32m━━━━━━━━━━━━━━━━━━━━\u001B[0m\u001B[37m\u001B[0m \u001B[1m681s\u001B[0m 380ms/step - accuracy: 0.8972 - loss: 0.2998 - val_accuracy: 0.8966 - val_loss: 0.2769\n",
      "Epoch 20/20\n",
      "\u001B[1m1719/1719\u001B[0m \u001B[32m━━━━━━━━━━━━━━━━━━━━\u001B[0m\u001B[37m\u001B[0m \u001B[1m680s\u001B[0m 379ms/step - accuracy: 0.8994 - loss: 0.2921 - val_accuracy: 0.9010 - val_loss: 0.2773\n"
     ]
    }
   ],
   "source": [
    "cnn.compile(loss=\"sparse_categorical_crossentropy\",\n",
    "              optimizer=\"sgd\",\n",
    "              metrics=[\"accuracy\"])\n",
    "# Mesmos parametros\n",
    "history_cnn = cnn.fit(X_train_new, y_train, epochs=20, validation_data=(X_valid_new, y_valid))"
   ]
  },
  {
   "cell_type": "markdown",
   "metadata": {
    "id": "g1LzINmFLuJy"
   },
   "source": [
    "### Avaliar o modelo"
   ]
  },
  {
   "cell_type": "code",
   "execution_count": 14,
   "metadata": {
    "id": "_xV2EgWCLuJy",
    "colab": {
     "base_uri": "https://localhost:8080/"
    },
    "outputId": "a703069f-9f0f-4d06-e6cc-4280120b236c"
   },
   "outputs": [
    {
     "output_type": "stream",
     "name": "stdout",
     "text": [
      "\u001B[1m313/313\u001B[0m \u001B[32m━━━━━━━━━━━━━━━━━━━━\u001B[0m\u001B[37m\u001B[0m \u001B[1m33s\u001B[0m 104ms/step - accuracy: 0.8700 - loss: 32.4271\n"
     ]
    },
    {
     "output_type": "execute_result",
     "data": {
      "text/plain": [
       "[33.380367279052734, 0.8690000176429749]"
      ]
     },
     "metadata": {},
     "execution_count": 14
    }
   ],
   "source": [
    "cnn.evaluate(X_test_new, y_test,verbose=1)"
   ]
  },
  {
   "cell_type": "code",
   "execution_count": 15,
   "metadata": {
    "id": "mrT2Xba5LuJy",
    "colab": {
     "base_uri": "https://localhost:8080/",
     "height": 682
    },
    "outputId": "c5e95d37-aea9-4f29-af81-1879c41d5117"
   },
   "outputs": [
    {
     "output_type": "display_data",
     "data": {
      "text/plain": [
       "<Figure size 1200x800 with 1 Axes>"
      ],
      "image/png": "[encoded data removed]"
     },
     "metadata": {}
    }
   ],
   "source": [
    "pd.DataFrame(history_cnn.history).plot(figsize=(12, 8))\n",
    "plt.grid(True)\n",
    "plt.gca().set_ylim(0, 1) # set the vertical range to [0-1]\n",
    "plt.show()\n",
    "\n",
    "\n",
    "# Conseguimos diminuir bastante nossa loss (de mais de 60 para 30), logo a confiança de que o modelo está certo quando ele está errado diminuiu.\n",
    "# Dar essa confiança mais baixa ao errar deixa noss rede mais confiável.\n",
    "\n",
    "# Nossa acurácia está melhor que o modelo de RNA, com 87% de acurácia e cremos haver bem menos overfitting também devido val_accuracy até maior que o accuracy.\n",
    "# Devido a nossa aprendizagem de características menores (detalhes).\n",
    "\n",
    "# Notamos uma certa estaganação no final do gráfico, logo mais treino (épocas) não deve melhorar significativamente a acurácia do modelo,\n",
    "# mas talvez melhore um pouco mais o loss, que teve uma melhora gradativa e não parece ter estagnado totalmente ainda (últimas epocas tiverem melhora significativa ainda).\n",
    "\n",
    "\n",
    "# Hipóteses de melhora:\n",
    "  # Adicionar BatchNormalization() após camadas de convolução, para conseguirmos usar learning rates maiores minimizando os seus maleficios (como pular o minimo global).\n",
    "    ## O que acreditamos poder melhorar acurácia um pouco (1-4%) e acelerar bastante seu treinamento.\n",
    "  # Além disso adicionar mais épocas e testar mudar o otimizador AdamW (para treinar mais rápido que o SGD).\n",
    "\n",
    "  # Data Augmentation seria outra coisa que possivelmente ajudaria muito. Consiste em aplicar transformações aleatórias nas imagens de treinamento, como rotações, translações, flips horizontais ou até zoom. Isso aumenta a diversidade do conjunto de dados e ajuda o modelo a generalizar melhor e extrair as caracteristicas realmente importantes.\n",
    "  # Isso teoricamente reduziria o overfitting e pode melhorar a acurácia no conjunto de teste, especialmente porque o Fashion-MNIST é relativamente simples e pode se beneficiar de variações artificiais.\n",
    "\n",
    "  # Também é possível testar adicionar novas camadas com filtros convolucionais de janelas de tamanho diferentes e quantidades diferentes de filtros\n",
    "\n",
    "  # Implementar GridSearch para buscar os melhores parâmetros para esse problema de forma automática (apenas passamos a lista dos que queremos testar"
   ]
  }
 ],
 "metadata": {
  "kernelspec": {
   "display_name": "Python 2",
   "language": "python",
   "name": "python2"
  },
  "language_info": {
   "codemirror_mode": {
    "name": "ipython",
    "version": 2
   },
   "file_extension": ".py",
   "mimetype": "text/x-python",
   "name": "python",
   "nbconvert_exporter": "python",
   "pygments_lexer": "ipython2",
   "version": "2.7.10"
  },
  "colab": {
   "provenance": []
  }
 },
 "nbformat": 4,
 "nbformat_minor": 0
}
